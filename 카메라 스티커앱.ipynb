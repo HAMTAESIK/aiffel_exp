{
  "nbformat": 4,
  "nbformat_minor": 0,
  "metadata": {
    "colab": {
      "name": "Untitled2.ipynb",
      "provenance": [],
      "collapsed_sections": []
    },
    "kernelspec": {
      "name": "python3",
      "display_name": "Python 3"
    },
    "language_info": {
      "name": "python"
    }
  },
  "cells": [
    {
      "cell_type": "markdown",
      "source": [
        "#사진 가져오기 "
      ],
      "metadata": {
        "id": "sZLoSCUWjAIN"
      }
    },
    {
      "cell_type": "code",
      "source": [
        "# 라이브러리 호출\n",
        "import os\n",
        "import cv2\n",
        "import matplotlib.pyplot as plt\n",
        "import numpy as np\n",
        "import dlib"
      ],
      "metadata": {
        "id": "oDbMY_MujEMe"
      },
      "execution_count": 5,
      "outputs": []
    },
    {
      "cell_type": "code",
      "source": [
        "# 사진 불러오기\n",
        "my_image_path = os.getenv('HOME')+'/aiffel/camera_sticker/images/image.jpg'\n",
        "img_bgr = cv2.imread(my_image_path)  \n",
        "img_show = img_bgr.copy()      \n",
        "img_rgb = cv2.cvtColor(img_bgr, cv2.COLOR_BGR2RGB)\n",
        "plt.imshow(img_rgb)\n",
        "plt.show()"
      ],
      "metadata": {
        "colab": {
          "base_uri": "https://localhost:8080/",
          "height": 248
        },
        "id": "4RvsyEnQjXaN",
        "outputId": "7f9c000b-bfd1-4164-87fe-bb199de38655"
      },
      "execution_count": 6,
      "outputs": [
        {
          "output_type": "error",
          "ename": "AttributeError",
          "evalue": "ignored",
          "traceback": [
            "\u001b[0;31m---------------------------------------------------------------------------\u001b[0m",
            "\u001b[0;31mAttributeError\u001b[0m                            Traceback (most recent call last)",
            "\u001b[0;32m<ipython-input-6-ccb2a951b6c2>\u001b[0m in \u001b[0;36m<module>\u001b[0;34m()\u001b[0m\n\u001b[1;32m      2\u001b[0m \u001b[0mmy_image_path\u001b[0m \u001b[0;34m=\u001b[0m \u001b[0mos\u001b[0m\u001b[0;34m.\u001b[0m\u001b[0mgetenv\u001b[0m\u001b[0;34m(\u001b[0m\u001b[0;34m'HOME'\u001b[0m\u001b[0;34m)\u001b[0m\u001b[0;34m+\u001b[0m\u001b[0;34m'/aiffel/camera_sticker/images/image.jpg'\u001b[0m\u001b[0;34m\u001b[0m\u001b[0;34m\u001b[0m\u001b[0m\n\u001b[1;32m      3\u001b[0m \u001b[0mimg_bgr\u001b[0m \u001b[0;34m=\u001b[0m \u001b[0mcv2\u001b[0m\u001b[0;34m.\u001b[0m\u001b[0mimread\u001b[0m\u001b[0;34m(\u001b[0m\u001b[0mmy_image_path\u001b[0m\u001b[0;34m)\u001b[0m\u001b[0;34m\u001b[0m\u001b[0;34m\u001b[0m\u001b[0m\n\u001b[0;32m----> 4\u001b[0;31m \u001b[0mimg_show\u001b[0m \u001b[0;34m=\u001b[0m \u001b[0mimg_bgr\u001b[0m\u001b[0;34m.\u001b[0m\u001b[0mcopy\u001b[0m\u001b[0;34m(\u001b[0m\u001b[0;34m)\u001b[0m\u001b[0;34m\u001b[0m\u001b[0;34m\u001b[0m\u001b[0m\n\u001b[0m\u001b[1;32m      5\u001b[0m \u001b[0mimg_rgb\u001b[0m \u001b[0;34m=\u001b[0m \u001b[0mcv2\u001b[0m\u001b[0;34m.\u001b[0m\u001b[0mcvtColor\u001b[0m\u001b[0;34m(\u001b[0m\u001b[0mimg_bgr\u001b[0m\u001b[0;34m,\u001b[0m \u001b[0mcv2\u001b[0m\u001b[0;34m.\u001b[0m\u001b[0mCOLOR_BGR2RGB\u001b[0m\u001b[0;34m)\u001b[0m\u001b[0;34m\u001b[0m\u001b[0;34m\u001b[0m\u001b[0m\n\u001b[1;32m      6\u001b[0m \u001b[0mplt\u001b[0m\u001b[0;34m.\u001b[0m\u001b[0mimshow\u001b[0m\u001b[0;34m(\u001b[0m\u001b[0mimg_rgb\u001b[0m\u001b[0;34m)\u001b[0m\u001b[0;34m\u001b[0m\u001b[0;34m\u001b[0m\u001b[0m\n",
            "\u001b[0;31mAttributeError\u001b[0m: 'NoneType' object has no attribute 'copy'"
          ]
        }
      ]
    },
    {
      "cell_type": "markdown",
      "source": [
        "# 얼굴 & 랜드마크 검출"
      ],
      "metadata": {
        "id": "pgThz3WClS13"
      }
    },
    {
      "cell_type": "code",
      "source": [
        "# dlib 사용해서 HOG detector 선언 \n",
        "detector_hog = dlib.get_frontal_face_detector()\n",
        "\n",
        "\n",
        "# 바운딩 박스 추출 \n",
        "\n",
        "img_rgb = cv2.cvtColor(img_bgr, cv2.COLOR_BGR2RGB)\n",
        "dlib_rects = detector_hog(img_rgb, 1)\n",
        "\n",
        "print(dlib_rects)   \n",
        "\n",
        "for dlib_rect in dlib_rects:\n",
        "    l = dlib_rect.left()\n",
        "    t = dlib_rect.top()\n",
        "    r = dlib_rect.right()\n",
        "    b = dlib_rect.bottom()\n",
        "\n",
        "    cv2.rectangle(img_show, (l,t), (r,b), (0,255,0), 2, lineType=cv2.LINE_AA)\n",
        "\n",
        "img_show_rgb =  cv2.cvtColor(img_show, cv2.COLOR_BGR2RGB)\n",
        "plt.imshow(img_show_rgb)\n",
        "plt.show()\n",
        "\n",
        "# 랜드마크 추출\n",
        "\n",
        "list_landmarks = []\n",
        "for dlib_rect in dlib_rects:\n",
        "    points = landmark_predictor(img_rgb, dlib_rect)\n",
        "    list_points = list(map(lambda p: (p.x, p.y), points.parts()))\n",
        "    list_landmarks.append(list_points)\n",
        "\n",
        "print(len(list_landmarks[0]))\n",
        "\n",
        "for landmark in list_landmarks:\n",
        "    for idx, point in enumerate(list_points):\n",
        "        cv2.circle(img_show, point, 2, (0, 255, 255), -1) # yellow\n",
        "\n",
        "img_show_rgb = cv2.cvtColor(img_show, cv2.COLOR_BGR2RGB)\n",
        "plt.imshow(img_show_rgb)\n",
        "plt.show()\n"
      ],
      "metadata": {
        "id": "vVsL3PqIkY82"
      },
      "execution_count": null,
      "outputs": []
    }
  ]
}